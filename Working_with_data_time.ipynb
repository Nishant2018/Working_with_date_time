{
 "cells": [
  {
   "cell_type": "code",
   "execution_count": 1,
   "id": "854c7609",
   "metadata": {},
   "outputs": [],
   "source": [
    "import numpy as np\n",
    "import pandas as pd"
   ]
  },
  {
   "cell_type": "code",
   "execution_count": 5,
   "id": "23f50f38",
   "metadata": {},
   "outputs": [],
   "source": [
    "date = pd.read_csv('C:\\\\Users\\\\EXCELL  COMPUTERS\\\\Programming_Data_Science\\\\CSV_Files\\\\Order.csv')"
   ]
  },
  {
   "cell_type": "code",
   "execution_count": 6,
   "id": "3b789909",
   "metadata": {},
   "outputs": [],
   "source": [
    "time = pd.read_csv('C:\\\\Users\\\\EXCELL  COMPUTERS\\\\Programming_Data_Science\\\\CSV_Files\\\\Message.csv')"
   ]
  },
  {
   "cell_type": "code",
   "execution_count": 7,
   "id": "d57e841c",
   "metadata": {},
   "outputs": [
    {
     "data": {
      "text/html": [
       "<div>\n",
       "<style scoped>\n",
       "    .dataframe tbody tr th:only-of-type {\n",
       "        vertical-align: middle;\n",
       "    }\n",
       "\n",
       "    .dataframe tbody tr th {\n",
       "        vertical-align: top;\n",
       "    }\n",
       "\n",
       "    .dataframe thead th {\n",
       "        text-align: right;\n",
       "    }\n",
       "</style>\n",
       "<table border=\"1\" class=\"dataframe\">\n",
       "  <thead>\n",
       "    <tr style=\"text-align: right;\">\n",
       "      <th></th>\n",
       "      <th>date</th>\n",
       "      <th>product_id</th>\n",
       "      <th>city_id</th>\n",
       "      <th>orders</th>\n",
       "    </tr>\n",
       "  </thead>\n",
       "  <tbody>\n",
       "    <tr>\n",
       "      <th>0</th>\n",
       "      <td>10/12/2019</td>\n",
       "      <td>7425</td>\n",
       "      <td>22</td>\n",
       "      <td>9</td>\n",
       "    </tr>\n",
       "    <tr>\n",
       "      <th>1</th>\n",
       "      <td>2/8/2019</td>\n",
       "      <td>2331</td>\n",
       "      <td>26</td>\n",
       "      <td>69</td>\n",
       "    </tr>\n",
       "    <tr>\n",
       "      <th>2</th>\n",
       "      <td>8/11/2019</td>\n",
       "      <td>582</td>\n",
       "      <td>26</td>\n",
       "      <td>3</td>\n",
       "    </tr>\n",
       "  </tbody>\n",
       "</table>\n",
       "</div>"
      ],
      "text/plain": [
       "         date  product_id  city_id  orders\n",
       "0  10/12/2019        7425       22       9\n",
       "1    2/8/2019        2331       26      69\n",
       "2   8/11/2019         582       26       3"
      ]
     },
     "execution_count": 7,
     "metadata": {},
     "output_type": "execute_result"
    }
   ],
   "source": [
    "date.head(3)"
   ]
  },
  {
   "cell_type": "code",
   "execution_count": 8,
   "id": "be442dc0",
   "metadata": {},
   "outputs": [
    {
     "data": {
      "text/html": [
       "<div>\n",
       "<style scoped>\n",
       "    .dataframe tbody tr th:only-of-type {\n",
       "        vertical-align: middle;\n",
       "    }\n",
       "\n",
       "    .dataframe tbody tr th {\n",
       "        vertical-align: top;\n",
       "    }\n",
       "\n",
       "    .dataframe thead th {\n",
       "        text-align: right;\n",
       "    }\n",
       "</style>\n",
       "<table border=\"1\" class=\"dataframe\">\n",
       "  <thead>\n",
       "    <tr style=\"text-align: right;\">\n",
       "      <th></th>\n",
       "      <th>date</th>\n",
       "      <th>msg</th>\n",
       "    </tr>\n",
       "  </thead>\n",
       "  <tbody>\n",
       "    <tr>\n",
       "      <th>0</th>\n",
       "      <td>5/7/2014 0:28</td>\n",
       "      <td>???????????? ? ???????? ??? ???.??? ???</td>\n",
       "    </tr>\n",
       "    <tr>\n",
       "      <th>1</th>\n",
       "      <td>11/30/2013 0:22</td>\n",
       "      <td>???? ?????! ??? ?? ??? ???????? ?????</td>\n",
       "    </tr>\n",
       "    <tr>\n",
       "      <th>2</th>\n",
       "      <td>11/6/2013 0:26</td>\n",
       "      <td>???????? ?33 ???? ? ?????? ???? ?????? ??? ???...</td>\n",
       "    </tr>\n",
       "  </tbody>\n",
       "</table>\n",
       "</div>"
      ],
      "text/plain": [
       "              date                                                msg\n",
       "0    5/7/2014 0:28            ???????????? ? ???????? ??? ???.??? ???\n",
       "1  11/30/2013 0:22              ???? ?????! ??? ?? ??? ???????? ?????\n",
       "2   11/6/2013 0:26  ???????? ?33 ???? ? ?????? ???? ?????? ??? ???..."
      ]
     },
     "execution_count": 8,
     "metadata": {},
     "output_type": "execute_result"
    }
   ],
   "source": [
    "time.head(3)"
   ]
  },
  {
   "cell_type": "code",
   "execution_count": 9,
   "id": "b6672d92",
   "metadata": {},
   "outputs": [
    {
     "name": "stdout",
     "output_type": "stream",
     "text": [
      "<class 'pandas.core.frame.DataFrame'>\n",
      "RangeIndex: 219 entries, 0 to 218\n",
      "Data columns (total 4 columns):\n",
      " #   Column      Non-Null Count  Dtype \n",
      "---  ------      --------------  ----- \n",
      " 0   date        219 non-null    object\n",
      " 1   product_id  219 non-null    int64 \n",
      " 2   city_id     219 non-null    int64 \n",
      " 3   orders      219 non-null    int64 \n",
      "dtypes: int64(3), object(1)\n",
      "memory usage: 7.0+ KB\n"
     ]
    }
   ],
   "source": [
    "date.info()"
   ]
  },
  {
   "cell_type": "markdown",
   "id": "1a72dc1a",
   "metadata": {},
   "source": [
    "### Working with dates"
   ]
  },
  {
   "cell_type": "code",
   "execution_count": 10,
   "id": "f0920a32",
   "metadata": {},
   "outputs": [],
   "source": [
    "#converting to date time datatypes"
   ]
  },
  {
   "cell_type": "code",
   "execution_count": 11,
   "id": "84c308ce",
   "metadata": {},
   "outputs": [],
   "source": [
    "date['date'] = pd.to_datetime(date['date'])"
   ]
  },
  {
   "cell_type": "code",
   "execution_count": 12,
   "id": "0c62a8bd",
   "metadata": {},
   "outputs": [
    {
     "name": "stdout",
     "output_type": "stream",
     "text": [
      "<class 'pandas.core.frame.DataFrame'>\n",
      "RangeIndex: 219 entries, 0 to 218\n",
      "Data columns (total 4 columns):\n",
      " #   Column      Non-Null Count  Dtype         \n",
      "---  ------      --------------  -----         \n",
      " 0   date        219 non-null    datetime64[ns]\n",
      " 1   product_id  219 non-null    int64         \n",
      " 2   city_id     219 non-null    int64         \n",
      " 3   orders      219 non-null    int64         \n",
      "dtypes: datetime64[ns](1), int64(3)\n",
      "memory usage: 7.0 KB\n"
     ]
    }
   ],
   "source": [
    "date.info()"
   ]
  },
  {
   "cell_type": "markdown",
   "id": "261e8ae1",
   "metadata": {},
   "source": [
    "### Extract year"
   ]
  },
  {
   "cell_type": "code",
   "execution_count": 14,
   "id": "4a1b6a17",
   "metadata": {},
   "outputs": [
    {
     "data": {
      "text/html": [
       "<div>\n",
       "<style scoped>\n",
       "    .dataframe tbody tr th:only-of-type {\n",
       "        vertical-align: middle;\n",
       "    }\n",
       "\n",
       "    .dataframe tbody tr th {\n",
       "        vertical-align: top;\n",
       "    }\n",
       "\n",
       "    .dataframe thead th {\n",
       "        text-align: right;\n",
       "    }\n",
       "</style>\n",
       "<table border=\"1\" class=\"dataframe\">\n",
       "  <thead>\n",
       "    <tr style=\"text-align: right;\">\n",
       "      <th></th>\n",
       "      <th>date</th>\n",
       "      <th>product_id</th>\n",
       "      <th>city_id</th>\n",
       "      <th>orders</th>\n",
       "      <th>date_year</th>\n",
       "    </tr>\n",
       "  </thead>\n",
       "  <tbody>\n",
       "    <tr>\n",
       "      <th>0</th>\n",
       "      <td>2019-10-12</td>\n",
       "      <td>7425</td>\n",
       "      <td>22</td>\n",
       "      <td>9</td>\n",
       "      <td>2019</td>\n",
       "    </tr>\n",
       "    <tr>\n",
       "      <th>1</th>\n",
       "      <td>2019-02-08</td>\n",
       "      <td>2331</td>\n",
       "      <td>26</td>\n",
       "      <td>69</td>\n",
       "      <td>2019</td>\n",
       "    </tr>\n",
       "    <tr>\n",
       "      <th>2</th>\n",
       "      <td>2019-08-11</td>\n",
       "      <td>582</td>\n",
       "      <td>26</td>\n",
       "      <td>3</td>\n",
       "      <td>2019</td>\n",
       "    </tr>\n",
       "  </tbody>\n",
       "</table>\n",
       "</div>"
      ],
      "text/plain": [
       "        date  product_id  city_id  orders  date_year\n",
       "0 2019-10-12        7425       22       9       2019\n",
       "1 2019-02-08        2331       26      69       2019\n",
       "2 2019-08-11         582       26       3       2019"
      ]
     },
     "execution_count": 14,
     "metadata": {},
     "output_type": "execute_result"
    }
   ],
   "source": [
    "date['date_year'] = date['date'].dt.year\n",
    "date.head(3)"
   ]
  },
  {
   "cell_type": "markdown",
   "id": "0df692a8",
   "metadata": {},
   "source": [
    "### Extract month"
   ]
  },
  {
   "cell_type": "code",
   "execution_count": 15,
   "id": "8b13c7f8",
   "metadata": {},
   "outputs": [],
   "source": [
    "date['month'] = date['date'].dt.month"
   ]
  },
  {
   "cell_type": "code",
   "execution_count": 16,
   "id": "f08e8e11",
   "metadata": {},
   "outputs": [
    {
     "data": {
      "text/html": [
       "<div>\n",
       "<style scoped>\n",
       "    .dataframe tbody tr th:only-of-type {\n",
       "        vertical-align: middle;\n",
       "    }\n",
       "\n",
       "    .dataframe tbody tr th {\n",
       "        vertical-align: top;\n",
       "    }\n",
       "\n",
       "    .dataframe thead th {\n",
       "        text-align: right;\n",
       "    }\n",
       "</style>\n",
       "<table border=\"1\" class=\"dataframe\">\n",
       "  <thead>\n",
       "    <tr style=\"text-align: right;\">\n",
       "      <th></th>\n",
       "      <th>date</th>\n",
       "      <th>product_id</th>\n",
       "      <th>city_id</th>\n",
       "      <th>orders</th>\n",
       "      <th>date_year</th>\n",
       "      <th>month</th>\n",
       "    </tr>\n",
       "  </thead>\n",
       "  <tbody>\n",
       "    <tr>\n",
       "      <th>0</th>\n",
       "      <td>2019-10-12</td>\n",
       "      <td>7425</td>\n",
       "      <td>22</td>\n",
       "      <td>9</td>\n",
       "      <td>2019</td>\n",
       "      <td>10</td>\n",
       "    </tr>\n",
       "    <tr>\n",
       "      <th>1</th>\n",
       "      <td>2019-02-08</td>\n",
       "      <td>2331</td>\n",
       "      <td>26</td>\n",
       "      <td>69</td>\n",
       "      <td>2019</td>\n",
       "      <td>2</td>\n",
       "    </tr>\n",
       "    <tr>\n",
       "      <th>2</th>\n",
       "      <td>2019-08-11</td>\n",
       "      <td>582</td>\n",
       "      <td>26</td>\n",
       "      <td>3</td>\n",
       "      <td>2019</td>\n",
       "      <td>8</td>\n",
       "    </tr>\n",
       "  </tbody>\n",
       "</table>\n",
       "</div>"
      ],
      "text/plain": [
       "        date  product_id  city_id  orders  date_year  month\n",
       "0 2019-10-12        7425       22       9       2019     10\n",
       "1 2019-02-08        2331       26      69       2019      2\n",
       "2 2019-08-11         582       26       3       2019      8"
      ]
     },
     "execution_count": 16,
     "metadata": {},
     "output_type": "execute_result"
    }
   ],
   "source": [
    "date.head(3)"
   ]
  },
  {
   "cell_type": "markdown",
   "id": "ba45967b",
   "metadata": {},
   "source": [
    "### Extract month name"
   ]
  },
  {
   "cell_type": "code",
   "execution_count": 17,
   "id": "b0f08593",
   "metadata": {},
   "outputs": [],
   "source": [
    "date['month_name'] = date['date'].dt.month_name()"
   ]
  },
  {
   "cell_type": "code",
   "execution_count": 18,
   "id": "f32b2996",
   "metadata": {},
   "outputs": [
    {
     "data": {
      "text/html": [
       "<div>\n",
       "<style scoped>\n",
       "    .dataframe tbody tr th:only-of-type {\n",
       "        vertical-align: middle;\n",
       "    }\n",
       "\n",
       "    .dataframe tbody tr th {\n",
       "        vertical-align: top;\n",
       "    }\n",
       "\n",
       "    .dataframe thead th {\n",
       "        text-align: right;\n",
       "    }\n",
       "</style>\n",
       "<table border=\"1\" class=\"dataframe\">\n",
       "  <thead>\n",
       "    <tr style=\"text-align: right;\">\n",
       "      <th></th>\n",
       "      <th>date</th>\n",
       "      <th>product_id</th>\n",
       "      <th>city_id</th>\n",
       "      <th>orders</th>\n",
       "      <th>date_year</th>\n",
       "      <th>month</th>\n",
       "      <th>month_name</th>\n",
       "    </tr>\n",
       "  </thead>\n",
       "  <tbody>\n",
       "    <tr>\n",
       "      <th>0</th>\n",
       "      <td>2019-10-12</td>\n",
       "      <td>7425</td>\n",
       "      <td>22</td>\n",
       "      <td>9</td>\n",
       "      <td>2019</td>\n",
       "      <td>10</td>\n",
       "      <td>October</td>\n",
       "    </tr>\n",
       "    <tr>\n",
       "      <th>1</th>\n",
       "      <td>2019-02-08</td>\n",
       "      <td>2331</td>\n",
       "      <td>26</td>\n",
       "      <td>69</td>\n",
       "      <td>2019</td>\n",
       "      <td>2</td>\n",
       "      <td>February</td>\n",
       "    </tr>\n",
       "  </tbody>\n",
       "</table>\n",
       "</div>"
      ],
      "text/plain": [
       "        date  product_id  city_id  orders  date_year  month month_name\n",
       "0 2019-10-12        7425       22       9       2019     10    October\n",
       "1 2019-02-08        2331       26      69       2019      2   February"
      ]
     },
     "execution_count": 18,
     "metadata": {},
     "output_type": "execute_result"
    }
   ],
   "source": [
    "date.head(2)"
   ]
  },
  {
   "cell_type": "markdown",
   "id": "7fed959d",
   "metadata": {},
   "source": [
    "### Extract days"
   ]
  },
  {
   "cell_type": "code",
   "execution_count": 19,
   "id": "36277d03",
   "metadata": {},
   "outputs": [],
   "source": [
    "date['days'] = date['date'].dt.day"
   ]
  },
  {
   "cell_type": "code",
   "execution_count": 20,
   "id": "b26c0289",
   "metadata": {},
   "outputs": [
    {
     "data": {
      "text/html": [
       "<div>\n",
       "<style scoped>\n",
       "    .dataframe tbody tr th:only-of-type {\n",
       "        vertical-align: middle;\n",
       "    }\n",
       "\n",
       "    .dataframe tbody tr th {\n",
       "        vertical-align: top;\n",
       "    }\n",
       "\n",
       "    .dataframe thead th {\n",
       "        text-align: right;\n",
       "    }\n",
       "</style>\n",
       "<table border=\"1\" class=\"dataframe\">\n",
       "  <thead>\n",
       "    <tr style=\"text-align: right;\">\n",
       "      <th></th>\n",
       "      <th>date</th>\n",
       "      <th>product_id</th>\n",
       "      <th>city_id</th>\n",
       "      <th>orders</th>\n",
       "      <th>date_year</th>\n",
       "      <th>month</th>\n",
       "      <th>month_name</th>\n",
       "      <th>days</th>\n",
       "    </tr>\n",
       "  </thead>\n",
       "  <tbody>\n",
       "    <tr>\n",
       "      <th>0</th>\n",
       "      <td>2019-10-12</td>\n",
       "      <td>7425</td>\n",
       "      <td>22</td>\n",
       "      <td>9</td>\n",
       "      <td>2019</td>\n",
       "      <td>10</td>\n",
       "      <td>October</td>\n",
       "      <td>12</td>\n",
       "    </tr>\n",
       "    <tr>\n",
       "      <th>1</th>\n",
       "      <td>2019-02-08</td>\n",
       "      <td>2331</td>\n",
       "      <td>26</td>\n",
       "      <td>69</td>\n",
       "      <td>2019</td>\n",
       "      <td>2</td>\n",
       "      <td>February</td>\n",
       "      <td>8</td>\n",
       "    </tr>\n",
       "  </tbody>\n",
       "</table>\n",
       "</div>"
      ],
      "text/plain": [
       "        date  product_id  city_id  orders  date_year  month month_name  days\n",
       "0 2019-10-12        7425       22       9       2019     10    October    12\n",
       "1 2019-02-08        2331       26      69       2019      2   February     8"
      ]
     },
     "execution_count": 20,
     "metadata": {},
     "output_type": "execute_result"
    }
   ],
   "source": [
    "date.head(2)"
   ]
  },
  {
   "cell_type": "markdown",
   "id": "33403aa0",
   "metadata": {},
   "source": [
    "### Day of week\n"
   ]
  },
  {
   "cell_type": "code",
   "execution_count": 21,
   "id": "d89ce9e6",
   "metadata": {},
   "outputs": [
    {
     "data": {
      "text/html": [
       "<div>\n",
       "<style scoped>\n",
       "    .dataframe tbody tr th:only-of-type {\n",
       "        vertical-align: middle;\n",
       "    }\n",
       "\n",
       "    .dataframe tbody tr th {\n",
       "        vertical-align: top;\n",
       "    }\n",
       "\n",
       "    .dataframe thead th {\n",
       "        text-align: right;\n",
       "    }\n",
       "</style>\n",
       "<table border=\"1\" class=\"dataframe\">\n",
       "  <thead>\n",
       "    <tr style=\"text-align: right;\">\n",
       "      <th></th>\n",
       "      <th>date</th>\n",
       "      <th>product_id</th>\n",
       "      <th>city_id</th>\n",
       "      <th>orders</th>\n",
       "      <th>date_year</th>\n",
       "      <th>month</th>\n",
       "      <th>month_name</th>\n",
       "      <th>days</th>\n",
       "      <th>Day_of_week</th>\n",
       "    </tr>\n",
       "  </thead>\n",
       "  <tbody>\n",
       "    <tr>\n",
       "      <th>0</th>\n",
       "      <td>2019-10-12</td>\n",
       "      <td>7425</td>\n",
       "      <td>22</td>\n",
       "      <td>9</td>\n",
       "      <td>2019</td>\n",
       "      <td>10</td>\n",
       "      <td>October</td>\n",
       "      <td>12</td>\n",
       "      <td>5</td>\n",
       "    </tr>\n",
       "    <tr>\n",
       "      <th>1</th>\n",
       "      <td>2019-02-08</td>\n",
       "      <td>2331</td>\n",
       "      <td>26</td>\n",
       "      <td>69</td>\n",
       "      <td>2019</td>\n",
       "      <td>2</td>\n",
       "      <td>February</td>\n",
       "      <td>8</td>\n",
       "      <td>4</td>\n",
       "    </tr>\n",
       "    <tr>\n",
       "      <th>2</th>\n",
       "      <td>2019-08-11</td>\n",
       "      <td>582</td>\n",
       "      <td>26</td>\n",
       "      <td>3</td>\n",
       "      <td>2019</td>\n",
       "      <td>8</td>\n",
       "      <td>August</td>\n",
       "      <td>11</td>\n",
       "      <td>6</td>\n",
       "    </tr>\n",
       "  </tbody>\n",
       "</table>\n",
       "</div>"
      ],
      "text/plain": [
       "        date  product_id  city_id  orders  date_year  month month_name  days  \\\n",
       "0 2019-10-12        7425       22       9       2019     10    October    12   \n",
       "1 2019-02-08        2331       26      69       2019      2   February     8   \n",
       "2 2019-08-11         582       26       3       2019      8     August    11   \n",
       "\n",
       "   Day_of_week  \n",
       "0            5  \n",
       "1            4  \n",
       "2            6  "
      ]
     },
     "execution_count": 21,
     "metadata": {},
     "output_type": "execute_result"
    }
   ],
   "source": [
    "date['Day_of_week'] = date['date'].dt.dayofweek\n",
    "date.head(3)"
   ]
  },
  {
   "cell_type": "markdown",
   "id": "e4786af7",
   "metadata": {},
   "source": [
    "### Day of week name"
   ]
  },
  {
   "cell_type": "code",
   "execution_count": 22,
   "id": "68a4733a",
   "metadata": {},
   "outputs": [],
   "source": [
    "date['Day_week_name'] = date['date'].dt.day_name()"
   ]
  },
  {
   "cell_type": "code",
   "execution_count": 23,
   "id": "97bbe453",
   "metadata": {},
   "outputs": [
    {
     "data": {
      "text/html": [
       "<div>\n",
       "<style scoped>\n",
       "    .dataframe tbody tr th:only-of-type {\n",
       "        vertical-align: middle;\n",
       "    }\n",
       "\n",
       "    .dataframe tbody tr th {\n",
       "        vertical-align: top;\n",
       "    }\n",
       "\n",
       "    .dataframe thead th {\n",
       "        text-align: right;\n",
       "    }\n",
       "</style>\n",
       "<table border=\"1\" class=\"dataframe\">\n",
       "  <thead>\n",
       "    <tr style=\"text-align: right;\">\n",
       "      <th></th>\n",
       "      <th>date</th>\n",
       "      <th>product_id</th>\n",
       "      <th>city_id</th>\n",
       "      <th>orders</th>\n",
       "      <th>date_year</th>\n",
       "      <th>month</th>\n",
       "      <th>month_name</th>\n",
       "      <th>days</th>\n",
       "      <th>Day_of_week</th>\n",
       "      <th>Day_week_name</th>\n",
       "    </tr>\n",
       "  </thead>\n",
       "  <tbody>\n",
       "    <tr>\n",
       "      <th>0</th>\n",
       "      <td>2019-10-12</td>\n",
       "      <td>7425</td>\n",
       "      <td>22</td>\n",
       "      <td>9</td>\n",
       "      <td>2019</td>\n",
       "      <td>10</td>\n",
       "      <td>October</td>\n",
       "      <td>12</td>\n",
       "      <td>5</td>\n",
       "      <td>Saturday</td>\n",
       "    </tr>\n",
       "    <tr>\n",
       "      <th>1</th>\n",
       "      <td>2019-02-08</td>\n",
       "      <td>2331</td>\n",
       "      <td>26</td>\n",
       "      <td>69</td>\n",
       "      <td>2019</td>\n",
       "      <td>2</td>\n",
       "      <td>February</td>\n",
       "      <td>8</td>\n",
       "      <td>4</td>\n",
       "      <td>Friday</td>\n",
       "    </tr>\n",
       "  </tbody>\n",
       "</table>\n",
       "</div>"
      ],
      "text/plain": [
       "        date  product_id  city_id  orders  date_year  month month_name  days  \\\n",
       "0 2019-10-12        7425       22       9       2019     10    October    12   \n",
       "1 2019-02-08        2331       26      69       2019      2   February     8   \n",
       "\n",
       "   Day_of_week Day_week_name  \n",
       "0            5      Saturday  \n",
       "1            4        Friday  "
      ]
     },
     "execution_count": 23,
     "metadata": {},
     "output_type": "execute_result"
    }
   ],
   "source": [
    "date.head(2)"
   ]
  },
  {
   "cell_type": "markdown",
   "id": "635edb48",
   "metadata": {},
   "source": [
    "### Extract week of the year"
   ]
  },
  {
   "cell_type": "code",
   "execution_count": 24,
   "id": "6a6b5a5c",
   "metadata": {},
   "outputs": [
    {
     "name": "stderr",
     "output_type": "stream",
     "text": [
      "C:\\Users\\EXCELL  COMPUTERS\\AppData\\Local\\Temp\\ipykernel_11864\\3715582761.py:1: FutureWarning: Series.dt.weekofyear and Series.dt.week have been deprecated. Please use Series.dt.isocalendar().week instead.\n",
      "  date['date_week'] = date['date'].dt.week\n"
     ]
    },
    {
     "data": {
      "text/html": [
       "<div>\n",
       "<style scoped>\n",
       "    .dataframe tbody tr th:only-of-type {\n",
       "        vertical-align: middle;\n",
       "    }\n",
       "\n",
       "    .dataframe tbody tr th {\n",
       "        vertical-align: top;\n",
       "    }\n",
       "\n",
       "    .dataframe thead th {\n",
       "        text-align: right;\n",
       "    }\n",
       "</style>\n",
       "<table border=\"1\" class=\"dataframe\">\n",
       "  <thead>\n",
       "    <tr style=\"text-align: right;\">\n",
       "      <th></th>\n",
       "      <th>date</th>\n",
       "      <th>product_id</th>\n",
       "      <th>city_id</th>\n",
       "      <th>orders</th>\n",
       "      <th>date_year</th>\n",
       "      <th>month</th>\n",
       "      <th>month_name</th>\n",
       "      <th>days</th>\n",
       "      <th>Day_of_week</th>\n",
       "      <th>Day_week_name</th>\n",
       "      <th>date_week</th>\n",
       "    </tr>\n",
       "  </thead>\n",
       "  <tbody>\n",
       "    <tr>\n",
       "      <th>0</th>\n",
       "      <td>2019-10-12</td>\n",
       "      <td>7425</td>\n",
       "      <td>22</td>\n",
       "      <td>9</td>\n",
       "      <td>2019</td>\n",
       "      <td>10</td>\n",
       "      <td>October</td>\n",
       "      <td>12</td>\n",
       "      <td>5</td>\n",
       "      <td>Saturday</td>\n",
       "      <td>41</td>\n",
       "    </tr>\n",
       "    <tr>\n",
       "      <th>1</th>\n",
       "      <td>2019-02-08</td>\n",
       "      <td>2331</td>\n",
       "      <td>26</td>\n",
       "      <td>69</td>\n",
       "      <td>2019</td>\n",
       "      <td>2</td>\n",
       "      <td>February</td>\n",
       "      <td>8</td>\n",
       "      <td>4</td>\n",
       "      <td>Friday</td>\n",
       "      <td>6</td>\n",
       "    </tr>\n",
       "  </tbody>\n",
       "</table>\n",
       "</div>"
      ],
      "text/plain": [
       "        date  product_id  city_id  orders  date_year  month month_name  days  \\\n",
       "0 2019-10-12        7425       22       9       2019     10    October    12   \n",
       "1 2019-02-08        2331       26      69       2019      2   February     8   \n",
       "\n",
       "   Day_of_week Day_week_name  date_week  \n",
       "0            5      Saturday         41  \n",
       "1            4        Friday          6  "
      ]
     },
     "execution_count": 24,
     "metadata": {},
     "output_type": "execute_result"
    }
   ],
   "source": [
    "date['date_week'] = date['date'].dt.week\n",
    "date.head(2)"
   ]
  },
  {
   "cell_type": "markdown",
   "id": "359e9535",
   "metadata": {},
   "source": [
    "### Extract quarter"
   ]
  },
  {
   "cell_type": "code",
   "execution_count": 25,
   "id": "5e439211",
   "metadata": {},
   "outputs": [],
   "source": [
    "date['quarter'] = date['date'].dt.quarter"
   ]
  },
  {
   "cell_type": "code",
   "execution_count": 26,
   "id": "eca78974",
   "metadata": {},
   "outputs": [
    {
     "data": {
      "text/html": [
       "<div>\n",
       "<style scoped>\n",
       "    .dataframe tbody tr th:only-of-type {\n",
       "        vertical-align: middle;\n",
       "    }\n",
       "\n",
       "    .dataframe tbody tr th {\n",
       "        vertical-align: top;\n",
       "    }\n",
       "\n",
       "    .dataframe thead th {\n",
       "        text-align: right;\n",
       "    }\n",
       "</style>\n",
       "<table border=\"1\" class=\"dataframe\">\n",
       "  <thead>\n",
       "    <tr style=\"text-align: right;\">\n",
       "      <th></th>\n",
       "      <th>date</th>\n",
       "      <th>product_id</th>\n",
       "      <th>city_id</th>\n",
       "      <th>orders</th>\n",
       "      <th>date_year</th>\n",
       "      <th>month</th>\n",
       "      <th>month_name</th>\n",
       "      <th>days</th>\n",
       "      <th>Day_of_week</th>\n",
       "      <th>Day_week_name</th>\n",
       "      <th>date_week</th>\n",
       "      <th>quarter</th>\n",
       "    </tr>\n",
       "  </thead>\n",
       "  <tbody>\n",
       "    <tr>\n",
       "      <th>0</th>\n",
       "      <td>2019-10-12</td>\n",
       "      <td>7425</td>\n",
       "      <td>22</td>\n",
       "      <td>9</td>\n",
       "      <td>2019</td>\n",
       "      <td>10</td>\n",
       "      <td>October</td>\n",
       "      <td>12</td>\n",
       "      <td>5</td>\n",
       "      <td>Saturday</td>\n",
       "      <td>41</td>\n",
       "      <td>4</td>\n",
       "    </tr>\n",
       "    <tr>\n",
       "      <th>1</th>\n",
       "      <td>2019-02-08</td>\n",
       "      <td>2331</td>\n",
       "      <td>26</td>\n",
       "      <td>69</td>\n",
       "      <td>2019</td>\n",
       "      <td>2</td>\n",
       "      <td>February</td>\n",
       "      <td>8</td>\n",
       "      <td>4</td>\n",
       "      <td>Friday</td>\n",
       "      <td>6</td>\n",
       "      <td>1</td>\n",
       "    </tr>\n",
       "    <tr>\n",
       "      <th>2</th>\n",
       "      <td>2019-08-11</td>\n",
       "      <td>582</td>\n",
       "      <td>26</td>\n",
       "      <td>3</td>\n",
       "      <td>2019</td>\n",
       "      <td>8</td>\n",
       "      <td>August</td>\n",
       "      <td>11</td>\n",
       "      <td>6</td>\n",
       "      <td>Sunday</td>\n",
       "      <td>32</td>\n",
       "      <td>3</td>\n",
       "    </tr>\n",
       "  </tbody>\n",
       "</table>\n",
       "</div>"
      ],
      "text/plain": [
       "        date  product_id  city_id  orders  date_year  month month_name  days  \\\n",
       "0 2019-10-12        7425       22       9       2019     10    October    12   \n",
       "1 2019-02-08        2331       26      69       2019      2   February     8   \n",
       "2 2019-08-11         582       26       3       2019      8     August    11   \n",
       "\n",
       "   Day_of_week Day_week_name  date_week  quarter  \n",
       "0            5      Saturday         41        4  \n",
       "1            4        Friday          6        1  \n",
       "2            6        Sunday         32        3  "
      ]
     },
     "execution_count": 26,
     "metadata": {},
     "output_type": "execute_result"
    }
   ],
   "source": [
    "date.head(3)"
   ]
  },
  {
   "cell_type": "markdown",
   "id": "99f51f49",
   "metadata": {},
   "source": [
    "### Extract semester"
   ]
  },
  {
   "cell_type": "code",
   "execution_count": 27,
   "id": "ddb74a04",
   "metadata": {},
   "outputs": [
    {
     "data": {
      "text/html": [
       "<div>\n",
       "<style scoped>\n",
       "    .dataframe tbody tr th:only-of-type {\n",
       "        vertical-align: middle;\n",
       "    }\n",
       "\n",
       "    .dataframe tbody tr th {\n",
       "        vertical-align: top;\n",
       "    }\n",
       "\n",
       "    .dataframe thead th {\n",
       "        text-align: right;\n",
       "    }\n",
       "</style>\n",
       "<table border=\"1\" class=\"dataframe\">\n",
       "  <thead>\n",
       "    <tr style=\"text-align: right;\">\n",
       "      <th></th>\n",
       "      <th>date</th>\n",
       "      <th>product_id</th>\n",
       "      <th>city_id</th>\n",
       "      <th>orders</th>\n",
       "      <th>date_year</th>\n",
       "      <th>month</th>\n",
       "      <th>month_name</th>\n",
       "      <th>days</th>\n",
       "      <th>Day_of_week</th>\n",
       "      <th>Day_week_name</th>\n",
       "      <th>date_week</th>\n",
       "      <th>quarter</th>\n",
       "      <th>semester</th>\n",
       "    </tr>\n",
       "  </thead>\n",
       "  <tbody>\n",
       "    <tr>\n",
       "      <th>0</th>\n",
       "      <td>2019-10-12</td>\n",
       "      <td>7425</td>\n",
       "      <td>22</td>\n",
       "      <td>9</td>\n",
       "      <td>2019</td>\n",
       "      <td>10</td>\n",
       "      <td>October</td>\n",
       "      <td>12</td>\n",
       "      <td>5</td>\n",
       "      <td>Saturday</td>\n",
       "      <td>41</td>\n",
       "      <td>4</td>\n",
       "      <td>2</td>\n",
       "    </tr>\n",
       "    <tr>\n",
       "      <th>1</th>\n",
       "      <td>2019-02-08</td>\n",
       "      <td>2331</td>\n",
       "      <td>26</td>\n",
       "      <td>69</td>\n",
       "      <td>2019</td>\n",
       "      <td>2</td>\n",
       "      <td>February</td>\n",
       "      <td>8</td>\n",
       "      <td>4</td>\n",
       "      <td>Friday</td>\n",
       "      <td>6</td>\n",
       "      <td>1</td>\n",
       "      <td>1</td>\n",
       "    </tr>\n",
       "    <tr>\n",
       "      <th>2</th>\n",
       "      <td>2019-08-11</td>\n",
       "      <td>582</td>\n",
       "      <td>26</td>\n",
       "      <td>3</td>\n",
       "      <td>2019</td>\n",
       "      <td>8</td>\n",
       "      <td>August</td>\n",
       "      <td>11</td>\n",
       "      <td>6</td>\n",
       "      <td>Sunday</td>\n",
       "      <td>32</td>\n",
       "      <td>3</td>\n",
       "      <td>2</td>\n",
       "    </tr>\n",
       "  </tbody>\n",
       "</table>\n",
       "</div>"
      ],
      "text/plain": [
       "        date  product_id  city_id  orders  date_year  month month_name  days  \\\n",
       "0 2019-10-12        7425       22       9       2019     10    October    12   \n",
       "1 2019-02-08        2331       26      69       2019      2   February     8   \n",
       "2 2019-08-11         582       26       3       2019      8     August    11   \n",
       "\n",
       "   Day_of_week Day_week_name  date_week  quarter  semester  \n",
       "0            5      Saturday         41        4         2  \n",
       "1            4        Friday          6        1         1  \n",
       "2            6        Sunday         32        3         2  "
      ]
     },
     "execution_count": 27,
     "metadata": {},
     "output_type": "execute_result"
    }
   ],
   "source": [
    "date['semester'] = np.where(date['quarter'].isin([1,2]) ,1, 2)\n",
    "date.head(3)"
   ]
  },
  {
   "cell_type": "markdown",
   "id": "f7bdd578",
   "metadata": {},
   "source": [
    "### Extract time elapsed between dates"
   ]
  },
  {
   "cell_type": "code",
   "execution_count": 28,
   "id": "2abcea46",
   "metadata": {},
   "outputs": [],
   "source": [
    "import datetime"
   ]
  },
  {
   "cell_type": "code",
   "execution_count": 32,
   "id": "1d1a6507",
   "metadata": {},
   "outputs": [
    {
     "data": {
      "text/plain": [
       "datetime.datetime(2023, 10, 6, 8, 48, 40, 425223)"
      ]
     },
     "execution_count": 32,
     "metadata": {},
     "output_type": "execute_result"
    }
   ],
   "source": [
    "today = datetime.datetime.today()\n",
    "today.isocalendar\n",
    "today"
   ]
  },
  {
   "cell_type": "code",
   "execution_count": 33,
   "id": "6cdf41f4",
   "metadata": {},
   "outputs": [
    {
     "data": {
      "text/plain": [
       "0     1455 days 08:48:40.425223\n",
       "1     1701 days 08:48:40.425223\n",
       "2     1517 days 08:48:40.425223\n",
       "3     1429 days 08:48:40.425223\n",
       "4     1408 days 08:48:40.425223\n",
       "                 ...           \n",
       "214   1824 days 08:48:40.425223\n",
       "215   1765 days 08:48:40.425223\n",
       "216   1613 days 08:48:40.425223\n",
       "217   1678 days 08:48:40.425223\n",
       "218   1452 days 08:48:40.425223\n",
       "Name: date, Length: 219, dtype: timedelta64[ns]"
      ]
     },
     "execution_count": 33,
     "metadata": {},
     "output_type": "execute_result"
    }
   ],
   "source": [
    "today - date['date']"
   ]
  },
  {
   "cell_type": "markdown",
   "id": "2c195c19",
   "metadata": {},
   "source": [
    "### Working with time data"
   ]
  },
  {
   "cell_type": "code",
   "execution_count": 34,
   "id": "546b6104",
   "metadata": {},
   "outputs": [],
   "source": [
    "#converting the datatype"
   ]
  },
  {
   "cell_type": "code",
   "execution_count": 35,
   "id": "24c3eb2b",
   "metadata": {},
   "outputs": [],
   "source": [
    "time['date'] = pd.to_datetime(time['date'])"
   ]
  },
  {
   "cell_type": "code",
   "execution_count": 36,
   "id": "1bd0997f",
   "metadata": {},
   "outputs": [
    {
     "name": "stdout",
     "output_type": "stream",
     "text": [
      "<class 'pandas.core.frame.DataFrame'>\n",
      "RangeIndex: 219 entries, 0 to 218\n",
      "Data columns (total 2 columns):\n",
      " #   Column  Non-Null Count  Dtype         \n",
      "---  ------  --------------  -----         \n",
      " 0   date    219 non-null    datetime64[ns]\n",
      " 1   msg     219 non-null    object        \n",
      "dtypes: datetime64[ns](1), object(1)\n",
      "memory usage: 3.5+ KB\n"
     ]
    }
   ],
   "source": [
    "time.info()"
   ]
  },
  {
   "cell_type": "markdown",
   "id": "91fea607",
   "metadata": {},
   "source": [
    "### extract time part"
   ]
  },
  {
   "cell_type": "code",
   "execution_count": 37,
   "id": "6df4cdae",
   "metadata": {},
   "outputs": [
    {
     "data": {
      "text/html": [
       "<div>\n",
       "<style scoped>\n",
       "    .dataframe tbody tr th:only-of-type {\n",
       "        vertical-align: middle;\n",
       "    }\n",
       "\n",
       "    .dataframe tbody tr th {\n",
       "        vertical-align: top;\n",
       "    }\n",
       "\n",
       "    .dataframe thead th {\n",
       "        text-align: right;\n",
       "    }\n",
       "</style>\n",
       "<table border=\"1\" class=\"dataframe\">\n",
       "  <thead>\n",
       "    <tr style=\"text-align: right;\">\n",
       "      <th></th>\n",
       "      <th>date</th>\n",
       "      <th>msg</th>\n",
       "      <th>time</th>\n",
       "    </tr>\n",
       "  </thead>\n",
       "  <tbody>\n",
       "    <tr>\n",
       "      <th>0</th>\n",
       "      <td>2014-05-07 00:28:00</td>\n",
       "      <td>???????????? ? ???????? ??? ???.??? ???</td>\n",
       "      <td>00:28:00</td>\n",
       "    </tr>\n",
       "    <tr>\n",
       "      <th>1</th>\n",
       "      <td>2013-11-30 00:22:00</td>\n",
       "      <td>???? ?????! ??? ?? ??? ???????? ?????</td>\n",
       "      <td>00:22:00</td>\n",
       "    </tr>\n",
       "    <tr>\n",
       "      <th>2</th>\n",
       "      <td>2013-11-06 00:26:00</td>\n",
       "      <td>???????? ?33 ???? ? ?????? ???? ?????? ??? ???...</td>\n",
       "      <td>00:26:00</td>\n",
       "    </tr>\n",
       "  </tbody>\n",
       "</table>\n",
       "</div>"
      ],
      "text/plain": [
       "                 date                                                msg  \\\n",
       "0 2014-05-07 00:28:00            ???????????? ? ???????? ??? ???.??? ???   \n",
       "1 2013-11-30 00:22:00              ???? ?????! ??? ?? ??? ???????? ?????   \n",
       "2 2013-11-06 00:26:00  ???????? ?33 ???? ? ?????? ???? ?????? ??? ???...   \n",
       "\n",
       "       time  \n",
       "0  00:28:00  \n",
       "1  00:22:00  \n",
       "2  00:26:00  "
      ]
     },
     "execution_count": 37,
     "metadata": {},
     "output_type": "execute_result"
    }
   ],
   "source": [
    "time['time'] = time['date'].dt.time\n",
    "\n",
    "time.head(3)"
   ]
  },
  {
   "cell_type": "markdown",
   "id": "7a41aa27",
   "metadata": {},
   "source": [
    "### Extract hour minute second"
   ]
  },
  {
   "cell_type": "code",
   "execution_count": 39,
   "id": "5b334024",
   "metadata": {},
   "outputs": [],
   "source": [
    "time['hour'] = time['date'].dt.hour\n",
    "time['minute'] = time['date'].dt.minute\n",
    "time['second'] = time['date'].dt.second"
   ]
  },
  {
   "cell_type": "code",
   "execution_count": 41,
   "id": "3f55b95e",
   "metadata": {},
   "outputs": [
    {
     "data": {
      "text/html": [
       "<div>\n",
       "<style scoped>\n",
       "    .dataframe tbody tr th:only-of-type {\n",
       "        vertical-align: middle;\n",
       "    }\n",
       "\n",
       "    .dataframe tbody tr th {\n",
       "        vertical-align: top;\n",
       "    }\n",
       "\n",
       "    .dataframe thead th {\n",
       "        text-align: right;\n",
       "    }\n",
       "</style>\n",
       "<table border=\"1\" class=\"dataframe\">\n",
       "  <thead>\n",
       "    <tr style=\"text-align: right;\">\n",
       "      <th></th>\n",
       "      <th>date</th>\n",
       "      <th>msg</th>\n",
       "      <th>time</th>\n",
       "      <th>hour</th>\n",
       "      <th>minute</th>\n",
       "      <th>second</th>\n",
       "    </tr>\n",
       "  </thead>\n",
       "  <tbody>\n",
       "    <tr>\n",
       "      <th>136</th>\n",
       "      <td>2013-01-10 00:01:00</td>\n",
       "      <td>??????? ? ??? ??????? ?33???? ???? ??? ?????? ...</td>\n",
       "      <td>00:01:00</td>\n",
       "      <td>0</td>\n",
       "      <td>1</td>\n",
       "      <td>0</td>\n",
       "    </tr>\n",
       "    <tr>\n",
       "      <th>199</th>\n",
       "      <td>2013-03-16 00:42:00</td>\n",
       "      <td>???? ?? ?????!!!!!</td>\n",
       "      <td>00:42:00</td>\n",
       "      <td>0</td>\n",
       "      <td>42</td>\n",
       "      <td>0</td>\n",
       "    </tr>\n",
       "    <tr>\n",
       "      <th>89</th>\n",
       "      <td>2014-02-09 01:38:00</td>\n",
       "      <td>??? ??????? ?????????? ???????? ??????.</td>\n",
       "      <td>01:38:00</td>\n",
       "      <td>1</td>\n",
       "      <td>38</td>\n",
       "      <td>0</td>\n",
       "    </tr>\n",
       "  </tbody>\n",
       "</table>\n",
       "</div>"
      ],
      "text/plain": [
       "                   date                                                msg  \\\n",
       "136 2013-01-10 00:01:00  ??????? ? ??? ??????? ?33???? ???? ??? ?????? ...   \n",
       "199 2013-03-16 00:42:00                                 ???? ?? ?????!!!!!   \n",
       "89  2014-02-09 01:38:00            ??? ??????? ?????????? ???????? ??????.   \n",
       "\n",
       "         time  hour  minute  second  \n",
       "136  00:01:00     0       1       0  \n",
       "199  00:42:00     0      42       0  \n",
       "89   01:38:00     1      38       0  "
      ]
     },
     "execution_count": 41,
     "metadata": {},
     "output_type": "execute_result"
    }
   ],
   "source": [
    "time.sample(3)"
   ]
  },
  {
   "cell_type": "markdown",
   "id": "8ccb560b",
   "metadata": {},
   "source": [
    "### Time difference"
   ]
  },
  {
   "cell_type": "code",
   "execution_count": 42,
   "id": "fe11b821",
   "metadata": {},
   "outputs": [
    {
     "data": {
      "text/plain": [
       "0     3439 days 08:20:40.425223\n",
       "1     3597 days 08:26:40.425223\n",
       "2     3621 days 08:22:40.425223\n",
       "3     3574 days 08:25:40.425223\n",
       "4     4086 days 08:50:40.425223\n",
       "                 ...           \n",
       "214   4221 days 07:58:40.425223\n",
       "215   3542 days 09:34:40.425223\n",
       "216   4007 days 09:11:40.425223\n",
       "217   4123 days 09:14:40.425223\n",
       "218   3395 days 09:23:40.425223\n",
       "Name: date, Length: 219, dtype: timedelta64[ns]"
      ]
     },
     "execution_count": 42,
     "metadata": {},
     "output_type": "execute_result"
    }
   ],
   "source": [
    "today - time['date']"
   ]
  },
  {
   "cell_type": "code",
   "execution_count": 43,
   "id": "1c336212",
   "metadata": {},
   "outputs": [
    {
     "data": {
      "text/plain": [
       "0      2.971596e+08\n",
       "1      3.108112e+08\n",
       "2      3.128846e+08\n",
       "3      3.088239e+08\n",
       "4      3.530622e+08\n",
       "           ...     \n",
       "214    3.647231e+08\n",
       "215    3.060633e+08\n",
       "216    3.462379e+08\n",
       "217    3.562605e+08\n",
       "218    2.933618e+08\n",
       "Name: date, Length: 219, dtype: float64"
      ]
     },
     "execution_count": 43,
     "metadata": {},
     "output_type": "execute_result"
    }
   ],
   "source": [
    "#in second\n",
    "(today - time['date'])/np.timedelta64(1,'s')"
   ]
  },
  {
   "cell_type": "code",
   "execution_count": 44,
   "id": "fe6f96d8",
   "metadata": {},
   "outputs": [
    {
     "data": {
      "text/plain": [
       "0      4.952661e+06\n",
       "1      5.180187e+06\n",
       "2      5.214743e+06\n",
       "3      5.147066e+06\n",
       "4      5.884371e+06\n",
       "           ...     \n",
       "214    6.078719e+06\n",
       "215    5.101055e+06\n",
       "216    5.770632e+06\n",
       "217    5.937675e+06\n",
       "218    4.889364e+06\n",
       "Name: date, Length: 219, dtype: float64"
      ]
     },
     "execution_count": 44,
     "metadata": {},
     "output_type": "execute_result"
    }
   ],
   "source": [
    "#in minute\n",
    "(today - time['date'])/np.timedelta64(1,'m')"
   ]
  },
  {
   "cell_type": "code",
   "execution_count": 45,
   "id": "56dedf07",
   "metadata": {},
   "outputs": [
    {
     "data": {
      "text/plain": [
       "0       82544.344563\n",
       "1       86336.444563\n",
       "2       86912.377896\n",
       "3       85784.427896\n",
       "4       98072.844563\n",
       "           ...      \n",
       "214    101311.977896\n",
       "215     85017.577896\n",
       "216     96177.194563\n",
       "217     98961.244563\n",
       "218     81489.394563\n",
       "Name: date, Length: 219, dtype: float64"
      ]
     },
     "execution_count": 45,
     "metadata": {},
     "output_type": "execute_result"
    }
   ],
   "source": [
    "#in hour\n",
    "(today - time['date'])/np.timedelta64(1,'h')"
   ]
  },
  {
   "cell_type": "code",
   "execution_count": null,
   "id": "24b6b893",
   "metadata": {},
   "outputs": [],
   "source": []
  }
 ],
 "metadata": {
  "kernelspec": {
   "display_name": "Python 3 (ipykernel)",
   "language": "python",
   "name": "python3"
  },
  "language_info": {
   "codemirror_mode": {
    "name": "ipython",
    "version": 3
   },
   "file_extension": ".py",
   "mimetype": "text/x-python",
   "name": "python",
   "nbconvert_exporter": "python",
   "pygments_lexer": "ipython3",
   "version": "3.9.13"
  }
 },
 "nbformat": 4,
 "nbformat_minor": 5
}
